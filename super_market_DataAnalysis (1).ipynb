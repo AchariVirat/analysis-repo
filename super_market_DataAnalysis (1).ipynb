{
 "cells": [
  {
   "cell_type": "code",
   "execution_count": 31,
   "id": "4b715327",
   "metadata": {},
   "outputs": [],
   "source": [
    "import pandas as pd\n",
    "sales = pd.read_csv(\"sales.csv\")"
   ]
  },
  {
   "cell_type": "code",
   "execution_count": 40,
   "id": "81a0c704",
   "metadata": {},
   "outputs": [
    {
     "data": {
      "text/html": [
       "<div>\n",
       "<style scoped>\n",
       "    .dataframe tbody tr th:only-of-type {\n",
       "        vertical-align: middle;\n",
       "    }\n",
       "\n",
       "    .dataframe tbody tr th {\n",
       "        vertical-align: top;\n",
       "    }\n",
       "\n",
       "    .dataframe thead th {\n",
       "        text-align: right;\n",
       "    }\n",
       "</style>\n",
       "<table border=\"1\" class=\"dataframe\">\n",
       "  <thead>\n",
       "    <tr style=\"text-align: right;\">\n",
       "      <th></th>\n",
       "      <th>Invoice ID</th>\n",
       "      <th>Date</th>\n",
       "      <th>Time</th>\n",
       "      <th>Gender</th>\n",
       "      <th>Location</th>\n",
       "      <th>City</th>\n",
       "      <th>Member</th>\n",
       "      <th>Category</th>\n",
       "      <th>Price</th>\n",
       "      <th>Quantity</th>\n",
       "      <th>Total</th>\n",
       "      <th>Payment</th>\n",
       "      <th>Rating</th>\n",
       "    </tr>\n",
       "  </thead>\n",
       "  <tbody>\n",
       "    <tr>\n",
       "      <th>0</th>\n",
       "      <td>460489604</td>\n",
       "      <td>1/25/2018</td>\n",
       "      <td>16:46</td>\n",
       "      <td>Male</td>\n",
       "      <td>Brookfield</td>\n",
       "      <td>NewYork</td>\n",
       "      <td>Yes</td>\n",
       "      <td>Groceries</td>\n",
       "      <td>30</td>\n",
       "      <td>1</td>\n",
       "      <td>30</td>\n",
       "      <td>Cash</td>\n",
       "      <td>2</td>\n",
       "    </tr>\n",
       "    <tr>\n",
       "      <th>2</th>\n",
       "      <td>411909258</td>\n",
       "      <td>2/25/2018</td>\n",
       "      <td>13:33</td>\n",
       "      <td>Male</td>\n",
       "      <td>Water tower</td>\n",
       "      <td>Chicago</td>\n",
       "      <td>No</td>\n",
       "      <td>Clothing</td>\n",
       "      <td>57</td>\n",
       "      <td>2</td>\n",
       "      <td>114</td>\n",
       "      <td>Cash</td>\n",
       "      <td>5</td>\n",
       "    </tr>\n",
       "    <tr>\n",
       "      <th>5</th>\n",
       "      <td>263634050</td>\n",
       "      <td>03-09-2018</td>\n",
       "      <td>17:55</td>\n",
       "      <td>Male</td>\n",
       "      <td>Brookfield</td>\n",
       "      <td>NewYork</td>\n",
       "      <td>Yes</td>\n",
       "      <td>Clothing</td>\n",
       "      <td>52</td>\n",
       "      <td>4</td>\n",
       "      <td>208</td>\n",
       "      <td>Gpay</td>\n",
       "      <td>3</td>\n",
       "    </tr>\n",
       "    <tr>\n",
       "      <th>6</th>\n",
       "      <td>99646662</td>\n",
       "      <td>03-04-2018</td>\n",
       "      <td>13:21</td>\n",
       "      <td>Male</td>\n",
       "      <td>Water tower</td>\n",
       "      <td>Chicago</td>\n",
       "      <td>No</td>\n",
       "      <td>Clothing</td>\n",
       "      <td>81</td>\n",
       "      <td>3</td>\n",
       "      <td>243</td>\n",
       "      <td>Cash</td>\n",
       "      <td>4</td>\n",
       "    </tr>\n",
       "    <tr>\n",
       "      <th>7</th>\n",
       "      <td>188869875</td>\n",
       "      <td>03-08-2018</td>\n",
       "      <td>13:24</td>\n",
       "      <td>Male</td>\n",
       "      <td>Park lane</td>\n",
       "      <td>Dallas</td>\n",
       "      <td>No</td>\n",
       "      <td>Books</td>\n",
       "      <td>80</td>\n",
       "      <td>2</td>\n",
       "      <td>160</td>\n",
       "      <td>Cash</td>\n",
       "      <td>3</td>\n",
       "    </tr>\n",
       "    <tr>\n",
       "      <th>...</th>\n",
       "      <td>...</td>\n",
       "      <td>...</td>\n",
       "      <td>...</td>\n",
       "      <td>...</td>\n",
       "      <td>...</td>\n",
       "      <td>...</td>\n",
       "      <td>...</td>\n",
       "      <td>...</td>\n",
       "      <td>...</td>\n",
       "      <td>...</td>\n",
       "      <td>...</td>\n",
       "      <td>...</td>\n",
       "      <td>...</td>\n",
       "    </tr>\n",
       "    <tr>\n",
       "      <th>992</th>\n",
       "      <td>927909627</td>\n",
       "      <td>03-02-2018</td>\n",
       "      <td>13:35</td>\n",
       "      <td>Male</td>\n",
       "      <td>Brookfield</td>\n",
       "      <td>NewYork</td>\n",
       "      <td>No</td>\n",
       "      <td>Books</td>\n",
       "      <td>54</td>\n",
       "      <td>1</td>\n",
       "      <td>54</td>\n",
       "      <td>Card</td>\n",
       "      <td>1</td>\n",
       "    </tr>\n",
       "    <tr>\n",
       "      <th>994</th>\n",
       "      <td>446582560</td>\n",
       "      <td>1/31/2018</td>\n",
       "      <td>19:00</td>\n",
       "      <td>Male</td>\n",
       "      <td>Water tower</td>\n",
       "      <td>Chicago</td>\n",
       "      <td>No</td>\n",
       "      <td>Fashion</td>\n",
       "      <td>29</td>\n",
       "      <td>5</td>\n",
       "      <td>145</td>\n",
       "      <td>Cash</td>\n",
       "      <td>4</td>\n",
       "    </tr>\n",
       "    <tr>\n",
       "      <th>995</th>\n",
       "      <td>818829599</td>\n",
       "      <td>3/26/2018</td>\n",
       "      <td>11:19</td>\n",
       "      <td>Male</td>\n",
       "      <td>Park lane</td>\n",
       "      <td>Dallas</td>\n",
       "      <td>No</td>\n",
       "      <td>Groceries</td>\n",
       "      <td>31</td>\n",
       "      <td>4</td>\n",
       "      <td>124</td>\n",
       "      <td>Card</td>\n",
       "      <td>3</td>\n",
       "    </tr>\n",
       "    <tr>\n",
       "      <th>996</th>\n",
       "      <td>556589713</td>\n",
       "      <td>2/20/2018</td>\n",
       "      <td>17:17</td>\n",
       "      <td>Male</td>\n",
       "      <td>Water tower</td>\n",
       "      <td>Chicago</td>\n",
       "      <td>Yes</td>\n",
       "      <td>Groceries</td>\n",
       "      <td>3</td>\n",
       "      <td>5</td>\n",
       "      <td>15</td>\n",
       "      <td>Gpay</td>\n",
       "      <td>3</td>\n",
       "    </tr>\n",
       "    <tr>\n",
       "      <th>997</th>\n",
       "      <td>82324424</td>\n",
       "      <td>02-06-2018</td>\n",
       "      <td>11:44</td>\n",
       "      <td>Male</td>\n",
       "      <td>Brookfield</td>\n",
       "      <td>NewYork</td>\n",
       "      <td>No</td>\n",
       "      <td>Clothing</td>\n",
       "      <td>71</td>\n",
       "      <td>5</td>\n",
       "      <td>355</td>\n",
       "      <td>Card</td>\n",
       "      <td>3</td>\n",
       "    </tr>\n",
       "  </tbody>\n",
       "</table>\n",
       "<p>499 rows × 13 columns</p>\n",
       "</div>"
      ],
      "text/plain": [
       "     Invoice ID        Date   Time Gender     Location     City Member  \\\n",
       "0     460489604   1/25/2018  16:46   Male   Brookfield  NewYork    Yes   \n",
       "2     411909258   2/25/2018  13:33   Male  Water tower  Chicago     No   \n",
       "5     263634050  03-09-2018  17:55   Male   Brookfield  NewYork    Yes   \n",
       "6      99646662  03-04-2018  13:21   Male  Water tower  Chicago     No   \n",
       "7     188869875  03-08-2018  13:24   Male    Park lane   Dallas     No   \n",
       "..          ...         ...    ...    ...          ...      ...    ...   \n",
       "992   927909627  03-02-2018  13:35   Male   Brookfield  NewYork     No   \n",
       "994   446582560   1/31/2018  19:00   Male  Water tower  Chicago     No   \n",
       "995   818829599   3/26/2018  11:19   Male    Park lane   Dallas     No   \n",
       "996   556589713   2/20/2018  17:17   Male  Water tower  Chicago    Yes   \n",
       "997    82324424  02-06-2018  11:44   Male   Brookfield  NewYork     No   \n",
       "\n",
       "      Category  Price  Quantity  Total Payment  Rating  \n",
       "0    Groceries     30         1     30    Cash       2  \n",
       "2     Clothing     57         2    114    Cash       5  \n",
       "5     Clothing     52         4    208    Gpay       3  \n",
       "6     Clothing     81         3    243    Cash       4  \n",
       "7        Books     80         2    160    Cash       3  \n",
       "..         ...    ...       ...    ...     ...     ...  \n",
       "992      Books     54         1     54    Card       1  \n",
       "994    Fashion     29         5    145    Cash       4  \n",
       "995  Groceries     31         4    124    Card       3  \n",
       "996  Groceries      3         5     15    Gpay       3  \n",
       "997   Clothing     71         5    355    Card       3  \n",
       "\n",
       "[499 rows x 13 columns]"
      ]
     },
     "execution_count": 40,
     "metadata": {},
     "output_type": "execute_result"
    }
   ],
   "source": [
    "#selecting rows on a condition , rows of all male gender\n",
    "sales[sales['Gender']==\"Male\"]\n"
   ]
  },
  {
   "cell_type": "code",
   "execution_count": 41,
   "id": "7e68e218",
   "metadata": {},
   "outputs": [
    {
     "data": {
      "text/html": [
       "<div>\n",
       "<style scoped>\n",
       "    .dataframe tbody tr th:only-of-type {\n",
       "        vertical-align: middle;\n",
       "    }\n",
       "\n",
       "    .dataframe tbody tr th {\n",
       "        vertical-align: top;\n",
       "    }\n",
       "\n",
       "    .dataframe thead th {\n",
       "        text-align: right;\n",
       "    }\n",
       "</style>\n",
       "<table border=\"1\" class=\"dataframe\">\n",
       "  <thead>\n",
       "    <tr style=\"text-align: right;\">\n",
       "      <th></th>\n",
       "      <th>Invoice ID</th>\n",
       "      <th>Date</th>\n",
       "      <th>Time</th>\n",
       "      <th>Gender</th>\n",
       "      <th>Location</th>\n",
       "      <th>City</th>\n",
       "      <th>Member</th>\n",
       "      <th>Category</th>\n",
       "      <th>Price</th>\n",
       "      <th>Quantity</th>\n",
       "      <th>Total</th>\n",
       "      <th>Payment</th>\n",
       "      <th>Rating</th>\n",
       "    </tr>\n",
       "  </thead>\n",
       "  <tbody>\n",
       "    <tr>\n",
       "      <th>0</th>\n",
       "      <td>460489604</td>\n",
       "      <td>1/25/2018</td>\n",
       "      <td>16:46</td>\n",
       "      <td>Male</td>\n",
       "      <td>Brookfield</td>\n",
       "      <td>NewYork</td>\n",
       "      <td>Yes</td>\n",
       "      <td>Groceries</td>\n",
       "      <td>30</td>\n",
       "      <td>1</td>\n",
       "      <td>30</td>\n",
       "      <td>Cash</td>\n",
       "      <td>2</td>\n",
       "    </tr>\n",
       "    <tr>\n",
       "      <th>20</th>\n",
       "      <td>619639105</td>\n",
       "      <td>3/26/2018</td>\n",
       "      <td>19:48</td>\n",
       "      <td>Female</td>\n",
       "      <td>Brookfield</td>\n",
       "      <td>NewYork</td>\n",
       "      <td>No</td>\n",
       "      <td>Groceries</td>\n",
       "      <td>44</td>\n",
       "      <td>6</td>\n",
       "      <td>264</td>\n",
       "      <td>Cash</td>\n",
       "      <td>1</td>\n",
       "    </tr>\n",
       "    <tr>\n",
       "      <th>31</th>\n",
       "      <td>567867755</td>\n",
       "      <td>02-03-2018</td>\n",
       "      <td>20:59</td>\n",
       "      <td>Female</td>\n",
       "      <td>Brookfield</td>\n",
       "      <td>NewYork</td>\n",
       "      <td>No</td>\n",
       "      <td>Furniture</td>\n",
       "      <td>86</td>\n",
       "      <td>3</td>\n",
       "      <td>258</td>\n",
       "      <td>Cash</td>\n",
       "      <td>2</td>\n",
       "    </tr>\n",
       "    <tr>\n",
       "      <th>37</th>\n",
       "      <td>460044751</td>\n",
       "      <td>2/22/2018</td>\n",
       "      <td>16:20</td>\n",
       "      <td>Male</td>\n",
       "      <td>Brookfield</td>\n",
       "      <td>NewYork</td>\n",
       "      <td>No</td>\n",
       "      <td>Fashion</td>\n",
       "      <td>45</td>\n",
       "      <td>5</td>\n",
       "      <td>225</td>\n",
       "      <td>Cash</td>\n",
       "      <td>4</td>\n",
       "    </tr>\n",
       "    <tr>\n",
       "      <th>70</th>\n",
       "      <td>554361739</td>\n",
       "      <td>01-02-2018</td>\n",
       "      <td>17:24</td>\n",
       "      <td>Male</td>\n",
       "      <td>Brookfield</td>\n",
       "      <td>NewYork</td>\n",
       "      <td>Yes</td>\n",
       "      <td>Books</td>\n",
       "      <td>97</td>\n",
       "      <td>6</td>\n",
       "      <td>582</td>\n",
       "      <td>Cash</td>\n",
       "      <td>4</td>\n",
       "    </tr>\n",
       "    <tr>\n",
       "      <th>...</th>\n",
       "      <td>...</td>\n",
       "      <td>...</td>\n",
       "      <td>...</td>\n",
       "      <td>...</td>\n",
       "      <td>...</td>\n",
       "      <td>...</td>\n",
       "      <td>...</td>\n",
       "      <td>...</td>\n",
       "      <td>...</td>\n",
       "      <td>...</td>\n",
       "      <td>...</td>\n",
       "      <td>...</td>\n",
       "      <td>...</td>\n",
       "    </tr>\n",
       "    <tr>\n",
       "      <th>940</th>\n",
       "      <td>919895826</td>\n",
       "      <td>1/14/2018</td>\n",
       "      <td>17:12</td>\n",
       "      <td>Male</td>\n",
       "      <td>Brookfield</td>\n",
       "      <td>NewYork</td>\n",
       "      <td>Yes</td>\n",
       "      <td>Furniture</td>\n",
       "      <td>37</td>\n",
       "      <td>6</td>\n",
       "      <td>222</td>\n",
       "      <td>Cash</td>\n",
       "      <td>3</td>\n",
       "    </tr>\n",
       "    <tr>\n",
       "      <th>969</th>\n",
       "      <td>134230335</td>\n",
       "      <td>2/26/2018</td>\n",
       "      <td>20:51</td>\n",
       "      <td>Male</td>\n",
       "      <td>Brookfield</td>\n",
       "      <td>NewYork</td>\n",
       "      <td>No</td>\n",
       "      <td>Books</td>\n",
       "      <td>88</td>\n",
       "      <td>5</td>\n",
       "      <td>440</td>\n",
       "      <td>Cash</td>\n",
       "      <td>5</td>\n",
       "    </tr>\n",
       "    <tr>\n",
       "      <th>989</th>\n",
       "      <td>941364541</td>\n",
       "      <td>3/13/2018</td>\n",
       "      <td>14:53</td>\n",
       "      <td>Female</td>\n",
       "      <td>Brookfield</td>\n",
       "      <td>NewYork</td>\n",
       "      <td>No</td>\n",
       "      <td>Sporting</td>\n",
       "      <td>19</td>\n",
       "      <td>7</td>\n",
       "      <td>133</td>\n",
       "      <td>Cash</td>\n",
       "      <td>1</td>\n",
       "    </tr>\n",
       "    <tr>\n",
       "      <th>993</th>\n",
       "      <td>455112063</td>\n",
       "      <td>3/19/2018</td>\n",
       "      <td>17:30</td>\n",
       "      <td>Female</td>\n",
       "      <td>Brookfield</td>\n",
       "      <td>NewYork</td>\n",
       "      <td>Yes</td>\n",
       "      <td>Clothing</td>\n",
       "      <td>3</td>\n",
       "      <td>3</td>\n",
       "      <td>9</td>\n",
       "      <td>Cash</td>\n",
       "      <td>2</td>\n",
       "    </tr>\n",
       "    <tr>\n",
       "      <th>998</th>\n",
       "      <td>783661702</td>\n",
       "      <td>1/29/2018</td>\n",
       "      <td>15:44</td>\n",
       "      <td>Female</td>\n",
       "      <td>Brookfield</td>\n",
       "      <td>NewYork</td>\n",
       "      <td>No</td>\n",
       "      <td>Clothing</td>\n",
       "      <td>89</td>\n",
       "      <td>7</td>\n",
       "      <td>623</td>\n",
       "      <td>Cash</td>\n",
       "      <td>5</td>\n",
       "    </tr>\n",
       "  </tbody>\n",
       "</table>\n",
       "<p>110 rows × 13 columns</p>\n",
       "</div>"
      ],
      "text/plain": [
       "     Invoice ID        Date   Time  Gender    Location     City Member  \\\n",
       "0     460489604   1/25/2018  16:46    Male  Brookfield  NewYork    Yes   \n",
       "20    619639105   3/26/2018  19:48  Female  Brookfield  NewYork     No   \n",
       "31    567867755  02-03-2018  20:59  Female  Brookfield  NewYork     No   \n",
       "37    460044751   2/22/2018  16:20    Male  Brookfield  NewYork     No   \n",
       "70    554361739  01-02-2018  17:24    Male  Brookfield  NewYork    Yes   \n",
       "..          ...         ...    ...     ...         ...      ...    ...   \n",
       "940   919895826   1/14/2018  17:12    Male  Brookfield  NewYork    Yes   \n",
       "969   134230335   2/26/2018  20:51    Male  Brookfield  NewYork     No   \n",
       "989   941364541   3/13/2018  14:53  Female  Brookfield  NewYork     No   \n",
       "993   455112063   3/19/2018  17:30  Female  Brookfield  NewYork    Yes   \n",
       "998   783661702   1/29/2018  15:44  Female  Brookfield  NewYork     No   \n",
       "\n",
       "      Category  Price  Quantity  Total Payment  Rating  \n",
       "0    Groceries     30         1     30    Cash       2  \n",
       "20   Groceries     44         6    264    Cash       1  \n",
       "31   Furniture     86         3    258    Cash       2  \n",
       "37     Fashion     45         5    225    Cash       4  \n",
       "70       Books     97         6    582    Cash       4  \n",
       "..         ...    ...       ...    ...     ...     ...  \n",
       "940  Furniture     37         6    222    Cash       3  \n",
       "969      Books     88         5    440    Cash       5  \n",
       "989   Sporting     19         7    133    Cash       1  \n",
       "993   Clothing      3         3      9    Cash       2  \n",
       "998   Clothing     89         7    623    Cash       5  \n",
       "\n",
       "[110 rows x 13 columns]"
      ]
     },
     "execution_count": 41,
     "metadata": {},
     "output_type": "execute_result"
    }
   ],
   "source": [
    "# Queries To Find Conditional Data \n",
    "sales.query('City==\"NewYork\" & Payment==\"Cash\"')"
   ]
  },
  {
   "cell_type": "code",
   "execution_count": 42,
   "id": "8c2622fc",
   "metadata": {},
   "outputs": [
    {
     "data": {
      "text/plain": [
       "207788"
      ]
     },
     "execution_count": 42,
     "metadata": {},
     "output_type": "execute_result"
    }
   ],
   "source": [
    "#sum,max,min of particular column\n",
    "sales.sum()['Total']"
   ]
  },
  {
   "cell_type": "code",
   "execution_count": 44,
   "id": "56bbb51b",
   "metadata": {},
   "outputs": [
    {
     "data": {
      "text/plain": [
       "693"
      ]
     },
     "execution_count": 44,
     "metadata": {},
     "output_type": "execute_result"
    }
   ],
   "source": [
    "sales.max()['Total']"
   ]
  },
  {
   "cell_type": "code",
   "execution_count": 54,
   "id": "4b1985ce",
   "metadata": {},
   "outputs": [
    {
     "data": {
      "text/plain": [
       "1"
      ]
     },
     "execution_count": 54,
     "metadata": {},
     "output_type": "execute_result"
    }
   ],
   "source": [
    "sales.min()['Total']"
   ]
  },
  {
   "cell_type": "code",
   "execution_count": 55,
   "id": "77942e05",
   "metadata": {},
   "outputs": [
    {
     "data": {
      "text/html": [
       "<div>\n",
       "<style scoped>\n",
       "    .dataframe tbody tr th:only-of-type {\n",
       "        vertical-align: middle;\n",
       "    }\n",
       "\n",
       "    .dataframe tbody tr th {\n",
       "        vertical-align: top;\n",
       "    }\n",
       "\n",
       "    .dataframe thead th {\n",
       "        text-align: right;\n",
       "    }\n",
       "</style>\n",
       "<table border=\"1\" class=\"dataframe\">\n",
       "  <thead>\n",
       "    <tr style=\"text-align: right;\">\n",
       "      <th></th>\n",
       "      <th>Invoice ID</th>\n",
       "      <th>Date</th>\n",
       "      <th>Time</th>\n",
       "      <th>Gender</th>\n",
       "      <th>Location</th>\n",
       "      <th>City</th>\n",
       "      <th>Member</th>\n",
       "      <th>Category</th>\n",
       "      <th>Price</th>\n",
       "      <th>Quantity</th>\n",
       "      <th>Total</th>\n",
       "      <th>Payment</th>\n",
       "      <th>Rating</th>\n",
       "    </tr>\n",
       "  </thead>\n",
       "  <tbody>\n",
       "    <tr>\n",
       "      <th>47</th>\n",
       "      <td>315624039</td>\n",
       "      <td>3/30/2018</td>\n",
       "      <td>19:45</td>\n",
       "      <td>Female</td>\n",
       "      <td>Water tower</td>\n",
       "      <td>Chicago</td>\n",
       "      <td>Yes</td>\n",
       "      <td>Groceries</td>\n",
       "      <td>99</td>\n",
       "      <td>7</td>\n",
       "      <td>693</td>\n",
       "      <td>Gpay</td>\n",
       "      <td>3</td>\n",
       "    </tr>\n",
       "    <tr>\n",
       "      <th>679</th>\n",
       "      <td>270918350</td>\n",
       "      <td>3/27/2018</td>\n",
       "      <td>13:21</td>\n",
       "      <td>Female</td>\n",
       "      <td>Park lane</td>\n",
       "      <td>Dallas</td>\n",
       "      <td>Yes</td>\n",
       "      <td>Groceries</td>\n",
       "      <td>99</td>\n",
       "      <td>7</td>\n",
       "      <td>693</td>\n",
       "      <td>Gpay</td>\n",
       "      <td>2</td>\n",
       "    </tr>\n",
       "  </tbody>\n",
       "</table>\n",
       "</div>"
      ],
      "text/plain": [
       "     Invoice ID       Date   Time  Gender     Location     City Member  \\\n",
       "47    315624039  3/30/2018  19:45  Female  Water tower  Chicago    Yes   \n",
       "679   270918350  3/27/2018  13:21  Female    Park lane   Dallas    Yes   \n",
       "\n",
       "      Category  Price  Quantity  Total Payment  Rating  \n",
       "47   Groceries     99         7    693    Gpay       3  \n",
       "679  Groceries     99         7    693    Gpay       2  "
      ]
     },
     "execution_count": 55,
     "metadata": {},
     "output_type": "execute_result"
    }
   ],
   "source": [
    "sales[sales['Total']==sales.max()['Total']]"
   ]
  },
  {
   "cell_type": "code",
   "execution_count": 56,
   "id": "0df99c9d",
   "metadata": {},
   "outputs": [
    {
     "data": {
      "text/html": [
       "<div>\n",
       "<style scoped>\n",
       "    .dataframe tbody tr th:only-of-type {\n",
       "        vertical-align: middle;\n",
       "    }\n",
       "\n",
       "    .dataframe tbody tr th {\n",
       "        vertical-align: top;\n",
       "    }\n",
       "\n",
       "    .dataframe thead th {\n",
       "        text-align: right;\n",
       "    }\n",
       "</style>\n",
       "<table border=\"1\" class=\"dataframe\">\n",
       "  <thead>\n",
       "    <tr style=\"text-align: right;\">\n",
       "      <th></th>\n",
       "      <th>Invoice ID</th>\n",
       "      <th>Date</th>\n",
       "      <th>Time</th>\n",
       "      <th>Gender</th>\n",
       "      <th>Location</th>\n",
       "      <th>City</th>\n",
       "      <th>Member</th>\n",
       "      <th>Category</th>\n",
       "      <th>Price</th>\n",
       "      <th>Quantity</th>\n",
       "      <th>Total</th>\n",
       "      <th>Payment</th>\n",
       "      <th>Rating</th>\n",
       "    </tr>\n",
       "  </thead>\n",
       "  <tbody>\n",
       "    <tr>\n",
       "      <th>184</th>\n",
       "      <td>801334050</td>\n",
       "      <td>1/21/2018</td>\n",
       "      <td>20:18</td>\n",
       "      <td>Female</td>\n",
       "      <td>Park lane</td>\n",
       "      <td>Dallas</td>\n",
       "      <td>No</td>\n",
       "      <td>Furniture</td>\n",
       "      <td>1</td>\n",
       "      <td>1</td>\n",
       "      <td>1</td>\n",
       "      <td>Gpay</td>\n",
       "      <td>2</td>\n",
       "    </tr>\n",
       "    <tr>\n",
       "      <th>587</th>\n",
       "      <td>646176653</td>\n",
       "      <td>03-10-2018</td>\n",
       "      <td>19:39</td>\n",
       "      <td>Male</td>\n",
       "      <td>Park lane</td>\n",
       "      <td>Dallas</td>\n",
       "      <td>Yes</td>\n",
       "      <td>Sporting</td>\n",
       "      <td>1</td>\n",
       "      <td>1</td>\n",
       "      <td>1</td>\n",
       "      <td>Cash</td>\n",
       "      <td>2</td>\n",
       "    </tr>\n",
       "  </tbody>\n",
       "</table>\n",
       "</div>"
      ],
      "text/plain": [
       "     Invoice ID        Date   Time  Gender   Location    City Member  \\\n",
       "184   801334050   1/21/2018  20:18  Female  Park lane  Dallas     No   \n",
       "587   646176653  03-10-2018  19:39    Male  Park lane  Dallas    Yes   \n",
       "\n",
       "      Category  Price  Quantity  Total Payment  Rating  \n",
       "184  Furniture      1         1      1    Gpay       2  \n",
       "587   Sporting      1         1      1    Cash       2  "
      ]
     },
     "execution_count": 56,
     "metadata": {},
     "output_type": "execute_result"
    }
   ],
   "source": [
    "sales[sales['Total']==sales.min()['Total']]"
   ]
  },
  {
   "cell_type": "code",
   "execution_count": 63,
   "id": "08ca7bcc",
   "metadata": {},
   "outputs": [
    {
     "data": {
      "text/plain": [
       "City\n",
       "Chicago    65215\n",
       "Dallas     70432\n",
       "NewYork    72141\n",
       "Name: Total, dtype: int64"
      ]
     },
     "execution_count": 63,
     "metadata": {},
     "output_type": "execute_result"
    }
   ],
   "source": [
    "#Using GroupBy To Group Data By Location\n",
    "sales.groupby('City').sum()['Total']"
   ]
  },
  {
   "cell_type": "code",
   "execution_count": 64,
   "id": "5e5cf7ae",
   "metadata": {},
   "outputs": [
    {
     "data": {
      "text/plain": [
       "Date\n",
       "01-01-2018    2649\n",
       "01-02-2018    2166\n",
       "01-03-2018    2374\n",
       "01-04-2018    1192\n",
       "01-05-2018    1773\n",
       "              ... \n",
       "3/26/2018     2122\n",
       "3/27/2018     2716\n",
       "3/28/2018     2412\n",
       "3/29/2018     1944\n",
       "3/30/2018     2070\n",
       "Name: Total, Length: 89, dtype: int64"
      ]
     },
     "execution_count": 64,
     "metadata": {},
     "output_type": "execute_result"
    }
   ],
   "source": [
    "sales.groupby('Date').sum()[\"Total\"]"
   ]
  },
  {
   "cell_type": "code",
   "execution_count": 66,
   "id": "fb56802b",
   "metadata": {},
   "outputs": [],
   "source": [
    "#which location has higest and the lowest sales?\n",
    "#represent the sales on a bar chart, also show the market share for each location using a pie chart\n",
    "location_list = sales.groupby('Location')"
   ]
  },
  {
   "cell_type": "code",
   "execution_count": 70,
   "id": "db3cf245",
   "metadata": {},
   "outputs": [
    {
     "data": {
      "text/plain": [
       "['Brookfield', 'Park lane', 'Water tower']"
      ]
     },
     "execution_count": 70,
     "metadata": {},
     "output_type": "execute_result"
    }
   ],
   "source": [
    "location = [x for x,y in location_list]\n",
    "location"
   ]
  },
  {
   "cell_type": "code",
   "execution_count": 71,
   "id": "73233bdd",
   "metadata": {},
   "outputs": [
    {
     "data": {
      "text/plain": [
       "Location\n",
       "Brookfield     72141\n",
       "Park lane      70432\n",
       "Water tower    65215\n",
       "Name: Total, dtype: int64"
      ]
     },
     "execution_count": 71,
     "metadata": {},
     "output_type": "execute_result"
    }
   ],
   "source": [
    "sales.groupby('Location').sum()[\"Total\"]"
   ]
  },
  {
   "cell_type": "code",
   "execution_count": 72,
   "id": "8bba6011",
   "metadata": {},
   "outputs": [],
   "source": [
    "import matplotlib.pyplot as plt"
   ]
  },
  {
   "cell_type": "code",
   "execution_count": 75,
   "id": "5d23d5f3",
   "metadata": {},
   "outputs": [
    {
     "data": {
      "image/png": "[encoded data removed]",
      "text/plain": [
       "<Figure size 640x480 with 1 Axes>"
      ]
     },
     "metadata": {},
     "output_type": "display_data"
    }
   ],
   "source": [
    "plt.bar(location,sales.groupby('Location').sum()[\"Total\"])\n",
    "plt.show()"
   ]
  },
  {
   "cell_type": "code",
   "execution_count": 83,
   "id": "c6807714",
   "metadata": {},
   "outputs": [
    {
     "data": {
      "image/png": "[encoded data removed]",
      "text/plain": [
       "<Figure size 640x480 with 1 Axes>"
      ]
     },
     "metadata": {},
     "output_type": "display_data"
    }
   ],
   "source": [
    "plt.pie(sales.groupby('Location').sum()[\"Total\"],labels=location,autopct='%1.1f%%')\n",
    "plt.show()"
   ]
  },
  {
   "cell_type": "code",
   "execution_count": 113,
   "id": "c21f75e4",
   "metadata": {},
   "outputs": [],
   "source": [
    "#Classifying Shoppers\n",
    "location_sales = sales.groupby(['Gender','Location']).count()['Invoice ID']"
   ]
  },
  {
   "cell_type": "code",
   "execution_count": 114,
   "id": "a22d6ed4",
   "metadata": {},
   "outputs": [
    {
     "data": {
      "text/plain": [
       "Gender  Location   \n",
       "Female  Brookfield     179\n",
       "        Park lane      179\n",
       "        Water tower    143\n",
       "Male    Brookfield     161\n",
       "        Park lane      153\n",
       "        Water tower    185\n",
       "Name: Invoice ID, dtype: int64"
      ]
     },
     "execution_count": 114,
     "metadata": {},
     "output_type": "execute_result"
    }
   ],
   "source": [
    "location_sales"
   ]
  },
  {
   "cell_type": "code",
   "execution_count": 115,
   "id": "2925627e",
   "metadata": {},
   "outputs": [],
   "source": [
    "unstacked_sales = location_sales.unstack(level=0)"
   ]
  },
  {
   "cell_type": "code",
   "execution_count": 116,
   "id": "da913d42",
   "metadata": {},
   "outputs": [
    {
     "data": {
      "text/html": [
       "<div>\n",
       "<style scoped>\n",
       "    .dataframe tbody tr th:only-of-type {\n",
       "        vertical-align: middle;\n",
       "    }\n",
       "\n",
       "    .dataframe tbody tr th {\n",
       "        vertical-align: top;\n",
       "    }\n",
       "\n",
       "    .dataframe thead th {\n",
       "        text-align: right;\n",
       "    }\n",
       "</style>\n",
       "<table border=\"1\" class=\"dataframe\">\n",
       "  <thead>\n",
       "    <tr style=\"text-align: right;\">\n",
       "      <th>Gender</th>\n",
       "      <th>Female</th>\n",
       "      <th>Male</th>\n",
       "    </tr>\n",
       "    <tr>\n",
       "      <th>Location</th>\n",
       "      <th></th>\n",
       "      <th></th>\n",
       "    </tr>\n",
       "  </thead>\n",
       "  <tbody>\n",
       "    <tr>\n",
       "      <th>Brookfield</th>\n",
       "      <td>179</td>\n",
       "      <td>161</td>\n",
       "    </tr>\n",
       "    <tr>\n",
       "      <th>Park lane</th>\n",
       "      <td>179</td>\n",
       "      <td>153</td>\n",
       "    </tr>\n",
       "    <tr>\n",
       "      <th>Water tower</th>\n",
       "      <td>143</td>\n",
       "      <td>185</td>\n",
       "    </tr>\n",
       "  </tbody>\n",
       "</table>\n",
       "</div>"
      ],
      "text/plain": [
       "Gender       Female  Male\n",
       "Location                 \n",
       "Brookfield      179   161\n",
       "Park lane       179   153\n",
       "Water tower     143   185"
      ]
     },
     "execution_count": 116,
     "metadata": {},
     "output_type": "execute_result"
    }
   ],
   "source": [
    "unstacked_sales"
   ]
  },
  {
   "cell_type": "code",
   "execution_count": 120,
   "id": "7c712028",
   "metadata": {},
   "outputs": [
    {
     "data": {
      "text/plain": [
       "<Axes: xlabel='Location'>"
      ]
     },
     "execution_count": 120,
     "metadata": {},
     "output_type": "execute_result"
    },
    {
     "data": {
      "image/png": "[encoded data removed]",
      "text/plain": [
       "<Figure size 640x480 with 1 Axes>"
      ]
     },
     "metadata": {},
     "output_type": "display_data"
    }
   ],
   "source": [
    "unstacked_sales.plot(kind='bar')"
   ]
  },
  {
   "cell_type": "code",
   "execution_count": 121,
   "id": "fbc29f0d",
   "metadata": {},
   "outputs": [],
   "source": [
    "#1.Which branch has more members vs which has less members?\n",
    "#2. Which branch has higest rating and which has the lowest?\n",
    "members = sales.groupby(['Member','Location']).count()['Invoice ID']"
   ]
  },
  {
   "cell_type": "code",
   "execution_count": 122,
   "id": "483ceae7",
   "metadata": {},
   "outputs": [
    {
     "data": {
      "text/plain": [
       "Member  Location   \n",
       "No      Brookfield     173\n",
       "        Park lane      167\n",
       "        Water tower    159\n",
       "Yes     Brookfield     167\n",
       "        Park lane      165\n",
       "        Water tower    169\n",
       "Name: Invoice ID, dtype: int64"
      ]
     },
     "execution_count": 122,
     "metadata": {},
     "output_type": "execute_result"
    }
   ],
   "source": [
    "members"
   ]
  },
  {
   "cell_type": "code",
   "execution_count": 124,
   "id": "2a978f4e",
   "metadata": {},
   "outputs": [
    {
     "data": {
      "text/html": [
       "<div>\n",
       "<style scoped>\n",
       "    .dataframe tbody tr th:only-of-type {\n",
       "        vertical-align: middle;\n",
       "    }\n",
       "\n",
       "    .dataframe tbody tr th {\n",
       "        vertical-align: top;\n",
       "    }\n",
       "\n",
       "    .dataframe thead th {\n",
       "        text-align: right;\n",
       "    }\n",
       "</style>\n",
       "<table border=\"1\" class=\"dataframe\">\n",
       "  <thead>\n",
       "    <tr style=\"text-align: right;\">\n",
       "      <th>Member</th>\n",
       "      <th>No</th>\n",
       "      <th>Yes</th>\n",
       "    </tr>\n",
       "    <tr>\n",
       "      <th>Location</th>\n",
       "      <th></th>\n",
       "      <th></th>\n",
       "    </tr>\n",
       "  </thead>\n",
       "  <tbody>\n",
       "    <tr>\n",
       "      <th>Brookfield</th>\n",
       "      <td>173</td>\n",
       "      <td>167</td>\n",
       "    </tr>\n",
       "    <tr>\n",
       "      <th>Park lane</th>\n",
       "      <td>167</td>\n",
       "      <td>165</td>\n",
       "    </tr>\n",
       "    <tr>\n",
       "      <th>Water tower</th>\n",
       "      <td>159</td>\n",
       "      <td>169</td>\n",
       "    </tr>\n",
       "  </tbody>\n",
       "</table>\n",
       "</div>"
      ],
      "text/plain": [
       "Member        No  Yes\n",
       "Location             \n",
       "Brookfield   173  167\n",
       "Park lane    167  165\n",
       "Water tower  159  169"
      ]
     },
     "execution_count": 124,
     "metadata": {},
     "output_type": "execute_result"
    }
   ],
   "source": [
    "members.unstack(level=0)"
   ]
  },
  {
   "cell_type": "code",
   "execution_count": 126,
   "id": "30195028",
   "metadata": {},
   "outputs": [
    {
     "data": {
      "image/png": "[encoded data removed]",
      "text/plain": [
       "<Figure size 640x480 with 1 Axes>"
      ]
     },
     "metadata": {},
     "output_type": "display_data"
    }
   ],
   "source": [
    "members.unstack(level=0).plot(kind='bar')\n",
    "plt.show()"
   ]
  },
  {
   "cell_type": "code",
   "execution_count": 130,
   "id": "b05e441c",
   "metadata": {},
   "outputs": [
    {
     "data": {
      "image/png": "[encoded data removed]",
      "text/plain": [
       "<Figure size 640x480 with 1 Axes>"
      ]
     },
     "metadata": {},
     "output_type": "display_data"
    }
   ],
   "source": [
    "rating = sales.groupby('Location').mean('Rating').plot(kind='bar')\n",
    "plt.show()\n"
   ]
  },
  {
   "cell_type": "code",
   "execution_count": 139,
   "id": "3eb12ee4",
   "metadata": {},
   "outputs": [
    {
     "data": {
      "text/plain": [
       "City     Gender\n",
       "Chicago  Female    143\n",
       "         Male      185\n",
       "Dallas   Female    179\n",
       "         Male      153\n",
       "NewYork  Female    179\n",
       "         Male      161\n",
       "Name: Invoice ID, dtype: int64"
      ]
     },
     "execution_count": 139,
     "metadata": {},
     "output_type": "execute_result"
    }
   ],
   "source": [
    "#1. Which city has more females shopping?\n",
    "#gender\n",
    "#1. Who spends more men or women?\n",
    "#Customer type\n",
    "#1. Which type of customer spends more member or a non member?\n",
    "#product line\n",
    "# 1. Which product line sells more?\n",
    "#product line\n",
    "#2. Which product line is popular among men vs women?\n",
    "female_shoppers = sales.groupby(['City','Gender']).count()['Invoice ID']\n",
    "female_shoppers"
   ]
  },
  {
   "cell_type": "code",
   "execution_count": 141,
   "id": "92e28792",
   "metadata": {},
   "outputs": [
    {
     "data": {
      "image/png": "[encoded data removed]",
      "text/plain": [
       "<Figure size 640x480 with 1 Axes>"
      ]
     },
     "metadata": {},
     "output_type": "display_data"
    }
   ],
   "source": [
    "female_shoppers.unstack(level=0).plot(kind='bar')\n",
    "plt.show()"
   ]
  },
  {
   "cell_type": "code",
   "execution_count": 142,
   "id": "28afa244",
   "metadata": {},
   "outputs": [
    {
     "data": {
      "text/plain": [
       "Gender\n",
       "Female    106452\n",
       "Male      101336\n",
       "Name: Total, dtype: int64"
      ]
     },
     "execution_count": 142,
     "metadata": {},
     "output_type": "execute_result"
    }
   ],
   "source": [
    "spend = sales.groupby('Gender').sum()['Total']\n",
    "spend"
   ]
  },
  {
   "cell_type": "code",
   "execution_count": 147,
   "id": "1d5fe5ab",
   "metadata": {},
   "outputs": [
    {
     "data": {
      "image/png": "[encoded data removed]",
      "text/plain": [
       "<Figure size 640x480 with 1 Axes>"
      ]
     },
     "metadata": {},
     "output_type": "display_data"
    }
   ],
   "source": [
    "spend.plot(kind='bar')\n",
    "plt.show()"
   ]
  },
  {
   "cell_type": "code",
   "execution_count": 150,
   "id": "a4e4fe28",
   "metadata": {},
   "outputs": [],
   "source": [
    "member = sales.groupby('Member').sum()['Total']"
   ]
  },
  {
   "cell_type": "code",
   "execution_count": 151,
   "id": "19654bf5",
   "metadata": {},
   "outputs": [
    {
     "data": {
      "text/plain": [
       "Member\n",
       "No     100245\n",
       "Yes    107543\n",
       "Name: Total, dtype: int64"
      ]
     },
     "execution_count": 151,
     "metadata": {},
     "output_type": "execute_result"
    }
   ],
   "source": [
    "member\n"
   ]
  },
  {
   "cell_type": "code",
   "execution_count": 152,
   "id": "d0f0af62",
   "metadata": {},
   "outputs": [
    {
     "data": {
      "image/png": "[encoded data removed]",
      "text/plain": [
       "<Figure size 640x480 with 1 Axes>"
      ]
     },
     "metadata": {},
     "output_type": "display_data"
    }
   ],
   "source": [
    "member.plot(kind='bar')\n",
    "plt.show()"
   ]
  },
  {
   "cell_type": "code",
   "execution_count": 155,
   "id": "4f390787",
   "metadata": {},
   "outputs": [],
   "source": [
    "category_sales = sales.groupby('Category').count()[\"Rating\"]"
   ]
  },
  {
   "cell_type": "code",
   "execution_count": 157,
   "id": "0e4fc97c",
   "metadata": {},
   "outputs": [
    {
     "data": {
      "image/png": "[encoded data removed]",
      "text/plain": [
       "<Figure size 640x480 with 1 Axes>"
      ]
     },
     "metadata": {},
     "output_type": "display_data"
    }
   ],
   "source": [
    "category_sales.plot(kind='bar')\n",
    "plt.show()"
   ]
  },
  {
   "cell_type": "code",
   "execution_count": 160,
   "id": "e47dc596",
   "metadata": {},
   "outputs": [
    {
     "data": {
      "text/plain": [
       "Gender  Category \n",
       "Female  Books        88\n",
       "        Clothing     81\n",
       "        Fashion      81\n",
       "        Furniture    78\n",
       "        Groceries    87\n",
       "        Sporting     86\n",
       "Male    Books        77\n",
       "        Clothing     89\n",
       "        Fashion      72\n",
       "        Furniture    82\n",
       "        Groceries    87\n",
       "        Sporting     92\n",
       "Name: Rating, dtype: int64"
      ]
     },
     "execution_count": 160,
     "metadata": {},
     "output_type": "execute_result"
    }
   ],
   "source": [
    "sales_m_w = sales.groupby(['Gender','Category']).count()['Rating']\n",
    "sales_m_w"
   ]
  },
  {
   "cell_type": "code",
   "execution_count": 161,
   "id": "9d2a32f7",
   "metadata": {},
   "outputs": [
    {
     "data": {
      "image/png": "[encoded data removed]",
      "text/plain": [
       "<Figure size 640x480 with 1 Axes>"
      ]
     },
     "metadata": {},
     "output_type": "display_data"
    }
   ],
   "source": [
    "sales_m_w.plot(kind='bar')\n",
    "plt.show()"
   ]
  },
  {
   "cell_type": "code",
   "execution_count": null,
   "id": "1417da8b",
   "metadata": {},
   "outputs": [],
   "source": []
  }
 ],
 "metadata": {
  "kernelspec": {
   "display_name": "Python 3 (ipykernel)",
   "language": "python",
   "name": "python3"
  },
  "language_info": {
   "codemirror_mode": {
    "name": "ipython",
    "version": 3
   },
   "file_extension": ".py",
   "mimetype": "text/x-python",
   "name": "python",
   "nbconvert_exporter": "python",
   "pygments_lexer": "ipython3",
   "version": "3.11.7"
  }
 },
 "nbformat": 4,
 "nbformat_minor": 5
}
